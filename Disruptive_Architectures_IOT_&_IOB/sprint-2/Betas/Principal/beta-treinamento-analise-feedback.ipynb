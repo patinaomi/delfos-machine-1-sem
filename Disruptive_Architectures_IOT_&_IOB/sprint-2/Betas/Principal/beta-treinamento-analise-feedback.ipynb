{
 "cells": [
  {
   "cell_type": "markdown",
   "metadata": {},
   "source": [
    "# Consulta o banco de dados Oracle"
   ]
  },
  {
   "cell_type": "code",
   "execution_count": null,
   "metadata": {},
   "outputs": [],
   "source": [
    "import pandas as pd\n",
    "import oracledb\n",
    "# Ajustar a configuração do Pandas para mostrar todas as linhas\n",
    "#pd.set_option('display.max_rows', None)\n",
    "\n",
    "# Instalar pip install SQLAlchemy\n",
    "#from sqlalchemy import create_engine\n",
    "\n",
    "# Minhas credenciais\n",
    "credencial_banco = {\n",
    "    'dsn': 'oracle.fiap.com.br:1521/orcl',\n",
    "    'usuario': 'rm553472',\n",
    "    'senha': '100593'\n",
    "}\n",
    "\n",
    "# Função para conectar ao banco de dados\n",
    "def conectar(usuario, senha, dsn):\n",
    "    try:\n",
    "        conexao = oracledb.connect(user=usuario, password=senha, dsn=dsn, mode=oracledb.DEFAULT_AUTH)\n",
    "        print(\"Conexão com o banco de dados Oracle estabelecida com sucesso.\")\n",
    "        return conexao\n",
    "    except oracledb.DatabaseError as e:\n",
    "        print(f\"Erro ao conectar ao banco de dados: {e}\")\n",
    "        return None\n",
    "\n",
    "conexao = conectar(usuario='rm553472',senha='100593', dsn='oracle.fiap.com.br:1521/orcl')\n",
    "\n",
    "# Consultar dados da tabela de feedback\n",
    "query_feedback = \"\"\"\n",
    "SELECT *\n",
    "FROM feedback\n",
    "\"\"\"\n",
    "\n",
    "# Carregar dados em um DataFrame do Pandas\n",
    "df_feedback = pd.read_sql(query_feedback, conexao)\n",
    "\n",
    "# Fechar a conexão com o banco de dados\n",
    "conexao.close()"
   ]
  },
  {
   "cell_type": "code",
   "execution_count": null,
   "metadata": {},
   "outputs": [],
   "source": [
    "df_feedback"
   ]
  },
  {
   "cell_type": "markdown",
   "metadata": {},
   "source": [
    "# Tratar os dados da tabela Feedback"
   ]
  },
  {
   "cell_type": "code",
   "execution_count": null,
   "metadata": {},
   "outputs": [],
   "source": [
    "# Selecionar as colunas necessárias para o treinamento do modelo de classificação de feedback\n",
    "df_feedback_model = df_feedback[['NOTA', 'COMENTARIO']]\n",
    "\n",
    "# Exibir as primeiras linhas do DataFrame preparado para o modelo\n",
    "df_feedback_model.head()\n",
    "\n",
    "# Salvar o DataFrame preparado em um arquivo CSV para uso posterior pelo professor\n",
    "df_feedback_model.to_csv('feedback_model_data.csv', index=False)\n"
   ]
  },
  {
   "cell_type": "code",
   "execution_count": null,
   "metadata": {},
   "outputs": [],
   "source": [
    "df_feedback_model.info()"
   ]
  },
  {
   "cell_type": "code",
   "execution_count": null,
   "metadata": {},
   "outputs": [],
   "source": [
    "df_feedback_model['NOTA'] = df_feedback_model['NOTA'].astype(int)"
   ]
  },
  {
   "cell_type": "code",
   "execution_count": null,
   "metadata": {},
   "outputs": [],
   "source": [
    "df_feedback_model"
   ]
  },
  {
   "cell_type": "markdown",
   "metadata": {},
   "source": [
    "# Treinar o modelo para classificar os Feedbacks"
   ]
  },
  {
   "cell_type": "code",
   "execution_count": null,
   "metadata": {},
   "outputs": [],
   "source": [
    "import pandas as pd\n",
    "from sklearn.model_selection import train_test_split\n",
    "from sklearn.feature_extraction.text import TfidfVectorizer\n",
    "from sklearn.ensemble import RandomForestClassifier\n",
    "from sklearn.metrics import classification_report\n",
    "import joblib\n",
    "\n",
    "# Carregar os dados do arquivo CSV\n",
    "#df_feedback_model = pd.read_csv('feedback_model_data.csv')\n",
    "\n",
    "# Separar os dados em recursos (X) e rótulos (y)\n",
    "X = df_feedback_model['COMENTARIO']\n",
    "y = df_feedback_model['NOTA']\n",
    "\n",
    "# Dividir os dados em conjuntos de treinamento e teste\n",
    "X_train, X_test, y_train, y_test = train_test_split(X, y, test_size=0.2, random_state=42)\n",
    "\n",
    "# Vetorização dos comentários usando TF-IDF\n",
    "vectorizer = TfidfVectorizer()\n",
    "X_train_tfidf = vectorizer.fit_transform(X_train)\n",
    "X_test_tfidf = vectorizer.transform(X_test)\n",
    "\n",
    "# Treinar o modelo de classificação usando RandomForestClassifier\n",
    "model = RandomForestClassifier()\n",
    "model.fit(X_train_tfidf, y_train)\n",
    "\n",
    "# Fazer previsões no conjunto de teste\n",
    "y_pred = model.predict(X_test_tfidf)\n",
    "\n",
    "# Exibir o relatório de classificação\n",
    "print(classification_report(y_test, y_pred))\n",
    "\n",
    "# Salvar o modelo treinado e o vetor de palavras para uso posterior\n",
    "joblib.dump(model, 'feedback_classification_model.pkl')\n",
    "joblib.dump(vectorizer, 'tfidf_vectorizer.pkl')\n"
   ]
  },
  {
   "cell_type": "code",
   "execution_count": null,
   "metadata": {},
   "outputs": [],
   "source": [
    "import pandas as pd\n",
    "from sklearn.model_selection import train_test_split\n",
    "from sklearn.feature_extraction.text import TfidfVectorizer\n",
    "from sklearn.ensemble import RandomForestClassifier\n",
    "from sklearn.metrics import classification_report\n",
    "from sklearn.utils import resample\n",
    "import joblib\n",
    "\n",
    "# Carregar os dados do arquivo CSV\n",
    "#df_feedback_model = pd.read_csv('feedback_model_data.csv')\n",
    "\n",
    "# Converter a coluna 'avaliacao' para o tipo inteiro\n",
    "df_feedback_model['NOTA'] = df_feedback_model['NOTA'].astype(int)\n",
    "\n",
    "# Balancear o conjunto de dados\n",
    "df_majority = df_feedback_model[df_feedback_model['NOTA'] == 4]\n",
    "df_minority = df_feedback_model[df_feedback_model['NOTA'] == 5]\n",
    "\n",
    "df_minority_upsampled = resample(df_minority, \n",
    "                                 replace=True,     # sample with replacement\n",
    "                                 n_samples=len(df_majority),    # to match majority class\n",
    "                                 random_state=42) # reproducible results\n",
    "\n",
    "df_balanced = pd.concat([df_majority, df_minority_upsampled])\n",
    "\n",
    "# Separar os dados em recursos (X) e rótulos (y)\n",
    "X = df_balanced['COMENTARIO']\n",
    "y = df_balanced['NOTA']\n",
    "\n",
    "# Dividir os dados em conjuntos de treinamento e teste\n",
    "X_train, X_test, y_train, y_test = train_test_split(X, y, test_size=0.2, random_state=42)\n",
    "\n",
    "# Vetorização dos comentários usando TF-IDF\n",
    "vectorizer = TfidfVectorizer(stop_words='english')\n",
    "X_train_tfidf = vectorizer.fit_transform(X_train)\n",
    "X_test_tfidf = vectorizer.transform(X_test)\n",
    "\n",
    "# Treinar o modelo de classificação usando RandomForestClassifier com ajuste de hiperparâmetros\n",
    "model = RandomForestClassifier(n_estimators=100, max_depth=10, random_state=42)\n",
    "model.fit(X_train_tfidf, y_train)\n",
    "\n",
    "# Fazer previsões no conjunto de teste\n",
    "y_pred = model.predict(X_test_tfidf)\n",
    "\n",
    "# Exibir o relatório de classificação\n",
    "print(classification_report(y_test, y_pred))\n",
    "\n",
    "# Salvar o modelo treinado e o vetor de palavras para uso posterior\n",
    "joblib.dump(model, 'feedback_classification_model.pkl')\n",
    "joblib.dump(vectorizer, 'tfidf_vectorizer.pkl')\n"
   ]
  },
  {
   "cell_type": "markdown",
   "metadata": {},
   "source": [
    "## Sugerir consultas"
   ]
  },
  {
   "cell_type": "markdown",
   "metadata": {},
   "source": [
    "1. Coletar Dados do Cliente e das Clínicas:\n",
    "\n",
    "1.1. Informações do cliente: dia da semana preferido, horário, turno, endereço.\n",
    "\n",
    "1.2. Informações das clínicas: endereço, especialidades, notas de feedback e custo.\n",
    "\n",
    "2. Calcular a distância entre o endereço do cliente e das clínicas.\n",
    "\n",
    "3. Normalizar as avaliações e outras características relevantes da pesquisa de satisfação. Neste caso, posso usar o modelo treinado por API.\n",
    "\n",
    "4. Utilizar um algoritmo de aprendizado de máquina para treinar o modelo com os dados processados.\n",
    "\n",
    "5. Criar uma API que utilize o modelo treinado para sugerir consultas com base nas preferências do cliente. Vamos usar está API no front Mobile e Site."
   ]
  },
  {
   "cell_type": "code",
   "execution_count": null,
   "metadata": {},
   "outputs": [],
   "source": [
    "Novo treinamento"
   ]
  },
  {
   "cell_type": "code",
   "execution_count": null,
   "metadata": {},
   "outputs": [],
   "source": [
    "import pandas as pd\n",
    "from sklearn.model_selection import train_test_split\n",
    "from sklearn.feature_extraction.text import TfidfVectorizer\n",
    "from sklearn.linear_model import LogisticRegression\n",
    "from sklearn.metrics import classification_report\n",
    "\n",
    "# Carregar os dados\n",
    "data = pd.read_csv('feedback_model_data.csv')\n",
    "\n",
    "# Pré-processamento\n",
    "X = data['COMENTARIO']\n",
    "y = data['NOTA']\n",
    "\n",
    "# Dividir os dados em treino e teste\n",
    "X_train, X_test, y_train, y_test = train_test_split(X, y, test_size=0.2, random_state=42)\n",
    "\n",
    "# Vetorização TF-IDF\n",
    "vectorizer = TfidfVectorizer()\n",
    "X_train_tfidf = vectorizer.fit_transform(X_train)\n",
    "X_test_tfidf = vectorizer.transform(X_test)\n",
    "\n",
    "# Treinar o modelo\n",
    "model = LogisticRegression()\n",
    "model.fit(X_train_tfidf, y_train)\n",
    "\n",
    "# Avaliar o modelo\n",
    "y_pred = model.predict(X_test_tfidf)\n",
    "print(classification_report(y_test, y_pred))\n",
    "\n",
    "# Exportar o modelo treinado para um arquivo\n",
    "joblib.dump(model, 'modelo_treinado_segundo.pkl')"
   ]
  },
  {
   "cell_type": "markdown",
   "metadata": {},
   "source": [
    "# Analisar sentimento"
   ]
  },
  {
   "cell_type": "code",
   "execution_count": null,
   "metadata": {},
   "outputs": [],
   "source": [
    "import pandas as pd\n",
    "from sklearn.model_selection import train_test_split\n",
    "from sklearn.feature_extraction.text import TfidfVectorizer\n",
    "from sklearn.linear_model import LogisticRegression\n",
    "from sklearn.metrics import classification_report\n",
    "from vaderSentiment.vaderSentiment import SentimentIntensityAnalyzer\n",
    "import joblib\n",
    "import scipy\n",
    "\n",
    "# Carregar os dados\n",
    "data = pd.read_csv('feedback_model_data.csv')\n",
    "\n",
    "# Função para análise de sentimento\n",
    "def sentiment_score(comment):\n",
    "    analyzer = SentimentIntensityAnalyzer()\n",
    "    score = analyzer.polarity_scores(comment)\n",
    "    return score['compound']\n",
    "\n",
    "# Adicionar coluna de sentimento\n",
    "data['SENTIMENTO'] = data['COMENTARIO'].apply(sentiment_score)\n",
    "\n",
    "# Pré-processamento\n",
    "X = data[['COMENTARIO', 'SENTIMENTO']]\n",
    "y = data['NOTA']\n",
    "\n",
    "# Dividir os dados em treino e teste\n",
    "X_train, X_test, y_train, y_test = train_test_split(X, y, test_size=0.2, random_state=42)\n",
    "\n",
    "# Vetorização TF-IDF\n",
    "vectorizer = TfidfVectorizer()\n",
    "X_train_tfidf = vectorizer.fit_transform(X_train['COMENTARIO'])\n",
    "X_test_tfidf = vectorizer.transform(X_test['COMENTARIO'])\n",
    "\n",
    "# Adicionar a coluna de sentimento\n",
    "import scipy\n",
    "X_train_tfidf = scipy.sparse.hstack((X_train_tfidf, X_train[['SENTIMENTO']].values))\n",
    "X_test_tfidf = scipy.sparse.hstack((X_test_tfidf, X_test[['SENTIMENTO']].values))\n",
    "\n",
    "# Treinar o modelo\n",
    "model = LogisticRegression()\n",
    "model.fit(X_train_tfidf, y_train)\n",
    "\n",
    "# Avaliar o modelo\n",
    "y_pred = model.predict(X_test_tfidf)\n",
    "print(classification_report(y_test, y_pred))\n",
    "\n",
    "# Exportar o modelo treinado e o vetorizador para arquivos\n",
    "joblib.dump(model, 'modelo_treinado.pkl')\n",
    "joblib.dump(vectorizer, 'vectorizer.pkl')\n"
   ]
  }
 ],
 "metadata": {
  "kernelspec": {
   "display_name": "Python 3",
   "language": "python",
   "name": "python3"
  },
  "language_info": {
   "codemirror_mode": {
    "name": "ipython",
    "version": 3
   },
   "file_extension": ".py",
   "mimetype": "text/x-python",
   "name": "python",
   "nbconvert_exporter": "python",
   "pygments_lexer": "ipython3",
   "version": "3.12.4"
  }
 },
 "nbformat": 4,
 "nbformat_minor": 2
}
