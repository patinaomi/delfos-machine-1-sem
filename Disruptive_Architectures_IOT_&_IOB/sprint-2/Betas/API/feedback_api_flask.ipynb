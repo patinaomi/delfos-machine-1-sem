{
 "cells": [
  {
   "cell_type": "code",
   "execution_count": null,
   "metadata": {},
   "outputs": [],
   "source": [
    "from flask import Flask, request, jsonify\n",
    "import joblib\n",
    "import scipy\n",
    "\n",
    "app = Flask(__name__)\n",
    "\n",
    "# Carregar o modelo treinado e o vetorizador\n",
    "model = joblib.load('modelo_treinado.pkl')\n",
    "vectorizer = joblib.load('vectorizer.pkl')\n",
    "\n",
    "@app.route('/predict', methods=['POST'])\n",
    "def predict():\n",
    "    data = request.get_json(force=True)\n",
    "    comentario = data['COMENTARIO']\n",
    "    \n",
    "    # Pré-processar o comentário\n",
    "    comentario_tfidf = vectorizer.transform([comentario])\n",
    "    \n",
    "    # Adicionar a análise de sentimento\n",
    "    analyzer = SentimentIntensityAnalyzer()\n",
    "    sentimento = analyzer.polarity_scores(comentario)['compound']\n",
    "    comentario_tfidf = scipy.sparse.hstack((comentario_tfidf, [[sentimento]]))\n",
    "    \n",
    "    # Fazer a previsão\n",
    "    nota_pred = model.predict(comentario_tfidf)\n",
    "    \n",
    "    return jsonify(AVALIACAO=int(nota_pred[0]))\n",
    "\n",
    "if __name__ == '__main__':\n",
    "    app.run(debug=True)\n"
   ]
  }
 ],
 "metadata": {
  "kernelspec": {
   "display_name": "Python 3",
   "language": "python",
   "name": "python3"
  },
  "language_info": {
   "codemirror_mode": {
    "name": "ipython",
    "version": 3
   },
   "file_extension": ".py",
   "mimetype": "text/x-python",
   "name": "python",
   "nbconvert_exporter": "python",
   "pygments_lexer": "ipython3",
   "version": "3.12.4"
  }
 },
 "nbformat": 4,
 "nbformat_minor": 2
}
